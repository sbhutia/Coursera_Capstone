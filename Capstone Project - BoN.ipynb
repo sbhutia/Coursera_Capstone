{
 "cells": [
  {
   "cell_type": "markdown",
   "metadata": {},
   "source": [
    "# Capstone Project - Battle of Neighborhoods"
   ]
  },
  {
   "cell_type": "markdown",
   "metadata": {},
   "source": [
    "## Introduction/Business Problem\n",
    "\n",
    "Holiday and travel is emerging as a growing business area with many online services being introduced to help travellers with planning and logistics of their travel. Travellers can nowadays book flight tickets, hotels, and transport services from the comfort of thier home using the internet.\n",
    "\n",
    "My client is a travel agency based in Toronto and in order to provide out of city travellers with a personalised experience while booking tours via the company website, they are looking for a solution to intelligently recommend the neighborhoods where they should stay based on their interest. For example, if a customer is interesed in food and restaurants, it makese sense to recommend a neighborhood with lots of dining options. If a customer is interested in bars and nightlife, then it shoudl recommend the neighborhood with many bars and niglife options. The client has asked me to help them build a custom recommendation system using Machine Learning that will provide visitors with such a type of customised neighbourhood recommendation service. This service will initially be introducted for Toronto as that is where the company is based, and then it could be rolled out to other cities once it fully up and running."
   ]
  },
  {
   "cell_type": "markdown",
   "metadata": {},
   "source": [
    "## Data\n",
    "\n",
    "### Data Requirements\n",
    "The key requirement for the first phase of the recommendation system is to build a system using data of various venues Toronto, along with the associated category of the venues. For this, we will make use of Foursquare venues data to gather the information for different locations in the city. In addition to the venue information, we will also gather the various types of categories, and sub-categories that the venue can fall under. These categories will be used to match against the categories/sub-categories that a user will have chosen on their profile. In terms of locations, we will require a list of all neighbourhoods in Toronto, we will gather this information from Wikipedia which has a list of all Boroughs and Neighbourhoods, and finally we will map these locations to latitudes and longitudes using either the Geocoder python package, or an online copy of the co-ordinates. \n",
    "\n",
    "### Data Collection\n",
    "The below API's and online resources will serve as the source of our data:\n",
    " * Foursquare venue API - https://api.foursquare.com/v2/venues\n",
    " * Foursquare venue categories API - https://api.foursquare.com/v2/venues/categories\n",
    " * Toronto Boroughs/Neighbourhoods from Wikipedia - https://en.wikipedia.org/wiki/List_of_postal_codes_of_Canada:_M\n",
    " * Latitude/Longitude information - Geocoder API/https://cocl.us/Geospatial_data\n",
    "\n",
    "The list of neighbourhoods in Toronto can be retrieved using an html request from Python or by reading the data directly usingt Pandas. The geospatial data for each of the neighbourhoods can also be retrived in the same way.\n",
    "\n",
    "In order to retrieve the foursquare information for venues and categories, we will use the Python requests library to make webservice requests to these API's. We can retrive a set of venues for each of the neighbourhoods in Toronto."
   ]
  },
  {
   "cell_type": "code",
   "execution_count": null,
   "metadata": {},
   "outputs": [],
   "source": []
  }
 ],
 "metadata": {
  "kernelspec": {
   "display_name": "Python",
   "language": "python",
   "name": "conda-env-python-py"
  },
  "language_info": {
   "codemirror_mode": {
    "name": "ipython",
    "version": 3
   },
   "file_extension": ".py",
   "mimetype": "text/x-python",
   "name": "python",
   "nbconvert_exporter": "python",
   "pygments_lexer": "ipython3",
   "version": "3.6.12"
  }
 },
 "nbformat": 4,
 "nbformat_minor": 4
}
